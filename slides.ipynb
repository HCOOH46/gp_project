{
 "cells": [
  {
   "cell_type": "markdown",
   "metadata": {
    "slideshow": {
     "slide_type": "slide"
    }
   },
   "source": [
    "## 基于Labview的实时温度监控系统设计"
   ]
  },
  {
   "cell_type": "markdown",
   "metadata": {},
   "source": [
    "蔡凯锋  邵漫  曹蕴严 毕文萱 周久涵 "
   ]
  },
  {
   "cell_type": "markdown",
   "metadata": {
    "slideshow": {
     "slide_type": "slide"
    }
   },
   "source": [
    "## 一、课题概述"
   ]
  },
  {
   "cell_type": "markdown",
   "metadata": {
    "slideshow": {
     "slide_type": "fragment"
    }
   },
   "source": [
    "本课题的主要目标是设计一个基于LabVIEW的热电偶测温实验系统，通过热电偶传感器获取温度相关的电动势信号，并结合LabVIEW进行数据采集、信号处理和温度计算，实现高精度、实时的温度测量。"
   ]
  },
  {
   "cell_type": "markdown",
   "metadata": {
    "slideshow": {
     "slide_type": "fragment"
    }
   },
   "source": [
    "该系统主要包括热电偶信号采集、信号调理、温度换算、数据可视化等功能模块，力求在实验教学和工程实践中提供一种简便且高效的温度测量解决方案。"
   ]
  },
  {
   "cell_type": "markdown",
   "metadata": {
    "slideshow": {
     "slide_type": "subslide"
    }
   },
   "source": [
    "### 主要研究内容"
   ]
  },
  {
   "cell_type": "markdown",
   "metadata": {
    "slideshow": {
     "slide_type": "subslide"
    }
   },
   "source": [
    "#### （1）热电偶信号采集与信号调理："
   ]
  },
  {
   "cell_type": "markdown",
   "metadata": {
    "slideshow": {
     "slide_type": "fragment"
    }
   },
   "source": [
    "热电偶基于塞贝克效应工作，能够在不同温度下产生与温差成比例的电动势。由于热电偶输出的信号非常微弱（通常为毫伏级别），需要通过信号调理电路进行补偿和放大。"
   ]
  },
  {
   "cell_type": "markdown",
   "metadata": {
    "slideshow": {
     "slide_type": "fragment"
    }
   },
   "source": [
    "本研究设计了一个基于运算放大器的信号调理电路，能够有效地提高热电偶输出信号的质量，并为后续的温度测量提供可靠的基础数据。在LabVIEW系统中，信号调理后的电动势信号通过数据采集卡（DAQ）输入计算机。LabVIEW平台的模拟输入功能可实时采集这些信号，并进行后续处理。"
   ]
  },
  {
   "cell_type": "markdown",
   "metadata": {
    "slideshow": {
     "slide_type": "subslide"
    }
   },
   "source": [
    "#### （2）数据采集与温度换算："
   ]
  },
  {
   "cell_type": "markdown",
   "metadata": {
    "slideshow": {
     "slide_type": "fragment"
    }
   },
   "source": [
    "热电偶的输出电动势与温度之间的关系是非线性的，因此需要进行温度-电动势的校准。"
   ]
  },
  {
   "cell_type": "markdown",
   "metadata": {
    "slideshow": {
     "slide_type": "fragment"
    }
   },
   "source": [
    "在本研究中，我们首先通过查阅标准热电偶特性表格，获得不同温度下的电动势值，基于这些数据进行实验室的校准过程。校准完成后，使用LabVIEW进行数据采集和温度计算，采用多项式拟合或插值方法将电动势信号转换为温度值。在LabVIEW中，采用内置的数学模块进行温度换算，并利用物理学公式实现电动势与温度之间的转换。通过这一过程，系统能够实时将采集到的电动势信号转化为温度值，满足实验的需求。"
   ]
  },
  {
   "cell_type": "markdown",
   "metadata": {
    "slideshow": {
     "slide_type": "slide"
    }
   },
   "source": [
    "## 二、实验装置"
   ]
  },
  {
   "cell_type": "markdown",
   "metadata": {
    "slideshow": {
     "slide_type": "fragment"
    }
   },
   "source": [
    "![](arch.svg)"
   ]
  },
  {
   "cell_type": "markdown",
   "metadata": {
    "slideshow": {
     "slide_type": "subslide"
    }
   },
   "source": [
    "### 温度传感器"
   ]
  },
  {
   "cell_type": "markdown",
   "metadata": {
    "slideshow": {
     "slide_type": "fragment"
    }
   },
   "source": [
    "本实验采用热电偶。热电偶将两种不同的金属相连接，并在两接头处保持不同的温度，电路中将存在温度梯度和化学势梯度，因而同时产生热流和粒子流（电流）。"
   ]
  },
  {
   "cell_type": "markdown",
   "metadata": {
    "slideshow": {
     "slide_type": "fragment"
    }
   },
   "source": [
    "对于某种特定的热电偶，只要冷端（参考端）的温度 $T_0$ 恒定，那么热电动势的大小只随热端（工作端）的温度变化而变化，即一定的热电动势对应着一定的温度。因此，我们可以利用热电偶的塞贝克效应来进行温度测量。"
   ]
  },
  {
   "cell_type": "markdown",
   "metadata": {
    "slideshow": {
     "slide_type": "fragment"
    }
   },
   "source": [
    "下面是塞贝克效应的公式，$\\alpha$为该热电偶的塞贝克系数，$T_0$为参考端温度，$T_1$为待测温度。    \n",
    "$$V = \\alpha(T_1  − T_0)$$"
   ]
  },
  {
   "cell_type": "markdown",
   "metadata": {
    "slideshow": {
     "slide_type": "subslide"
    }
   },
   "source": [
    "### 热电偶放大器"
   ]
  },
  {
   "cell_type": "markdown",
   "metadata": {
    "slideshow": {
     "slide_type": "fragment"
    }
   },
   "source": [
    "| 本次实验中使用如右图所示的AD8495芯片，它是完整的K型0°至50°范围热电偶放大器，集成冷结补偿功能。| ![](AD8495.png) |\n",
    "|:---:|:---:|"
   ]
  },
  {
   "cell_type": "markdown",
   "metadata": {
    "slideshow": {
     "slide_type": "fragment"
    }
   },
   "source": [
    "特性：低成本、易于使用；针对 K 型热电偶预调整；内部冷端补偿；高阻抗差分输入；独立的 5 mV/°C 温度计；基准引脚提供失调电压调整功能；热电偶断开检测。"
   ]
  },
  {
   "cell_type": "markdown",
   "metadata": {
    "slideshow": {
     "slide_type": "subslide"
    }
   },
   "source": [
    "### NI ELVIS 虚拟仪器"
   ]
  },
  {
   "cell_type": "markdown",
   "metadata": {
    "slideshow": {
     "slide_type": "fragment"
    }
   },
   "source": [
    "| 虚拟仪器使用DAQ，即实验室提供的面包板，读取AD8495输出的电平信号，并将其传给计算机供右边这个Labview程序调用： | ![](software.jpg) |\n",
    "|:---:|:---:|"
   ]
  },
  {
   "cell_type": "markdown",
   "metadata": {
    "slideshow": {
     "slide_type": "subslide"
    }
   },
   "source": [
    "| 1.总体是一个循环结构，跳出循环的按钮是stop键。当按下前面板的STOP键时，循环终止。除此以外，按下上边栏的终止按键也可以手动终止代码。如果不按动，代码将继续运行，持续测量温度值，从而实现展示实时温度的功能。| ![](software.jpg) |\n",
    "|:---:|:---:|"
   ]
  },
  {
   "cell_type": "markdown",
   "metadata": {
    "slideshow": {
     "slide_type": "subslide"
    }
   },
   "source": [
    "| 2.测量温度使用的是Analog input控件，设置好参数后，该控件可实现对面包板上固定位点（此处为A/AI0位点）电压值的持续测量。随后使用Build Waveform函数，实现根据采集到的电压数据构建波形，并使用Waveform Graph控件在前面板直接显示电压波形图。 | ![](software.jpg) |\n",
    "|:---:|:---:|"
   ]
  },
  {
   "cell_type": "markdown",
   "metadata": {
    "slideshow": {
     "slide_type": "subslide"
    }
   },
   "source": [
    "| 3.实验测得的电压值经过合适的公式转换，输入到温度计控件中，实现测量温度并展示的功能。 | ![](software.jpg) |\n",
    "|:---:|:---:|"
   ]
  },
  {
   "cell_type": "markdown",
   "metadata": {
    "slideshow": {
     "slide_type": "subslide"
    }
   },
   "source": [
    "| 4.使用比较控件，将可设置的预警温度与实际温度比较。若实际温度高于预警温度，则触发报警灯亮；若实际温度低于预警温度，则报警灯不亮。每个循环比较一次，从而实现报警灯根据实际温度自动亮灭。从而实现可以设置预警温度并能实现报警的功能 | ![](software.jpg) |\n",
    "|:---:|:---:|"
   ]
  },
  {
   "cell_type": "markdown",
   "metadata": {
    "slideshow": {
     "slide_type": "subslide"
    }
   },
   "source": [
    "| 5.测量温度时，按下前面板相应的按钮或输入目标数值，后面板自动实现相应功能。具有必要的交互功能。 | ![](software.jpg) |\n",
    "|:---:|:---:|"
   ]
  },
  {
   "cell_type": "markdown",
   "metadata": {
    "slideshow": {
     "slide_type": "slide"
    }
   },
   "source": [
    "## 三、实验过程与结果"
   ]
  },
  {
   "cell_type": "markdown",
   "metadata": {
    "slideshow": {
     "slide_type": "subslide"
    }
   },
   "source": [
    "### 实验方法"
   ]
  },
  {
   "cell_type": "markdown",
   "metadata": {
    "slideshow": {
     "slide_type": "fragment"
    }
   },
   "source": [
    "由热电偶的原理，当热电偶探测端与另外两端存在温度差时，由于金属特性不同，两接口会产生微小的电压差，为了使得该信号能够被检测出来，需要用差分运放进行放大。电压差与检测温度之间存在函数关系，查阅资料得知二者之间呈线性关系，为了得出线性系数，可以通过与标准温度校对，记录下标准温度与相应电压差的关系并计算出线性系数来实现。最后将关系式写入Labview的代码中，对放大后的数据进行转化并且可视化处理。"
   ]
  },
  {
   "cell_type": "markdown",
   "metadata": {
    "slideshow": {
     "slide_type": "subslide"
    }
   },
   "source": [
    "### 实验步骤"
   ]
  },
  {
   "cell_type": "markdown",
   "metadata": {
    "slideshow": {
     "slide_type": "fragment"
    }
   },
   "source": [
    "1. 购买实验元件（K型热电偶、AD8495运放）；"
   ]
  },
  {
   "cell_type": "markdown",
   "metadata": {
    "slideshow": {
     "slide_type": "fragment"
    }
   },
   "source": [
    "2. 焊接热电偶和运放；"
   ]
  },
  {
   "cell_type": "markdown",
   "metadata": {
    "slideshow": {
     "slide_type": "fragment"
    }
   },
   "source": [
    "3. 搭建电路；"
   ]
  },
  {
   "cell_type": "markdown",
   "metadata": {
    "slideshow": {
     "slide_type": "fragment"
    }
   },
   "source": [
    "4. 测量多个标准温度下的电压差数值，计算转化系数；"
   ]
  },
  {
   "cell_type": "markdown",
   "metadata": {
    "slideshow": {
     "slide_type": "fragment"
    }
   },
   "source": [
    "5. 完成Labview的软件框架构建；"
   ]
  },
  {
   "cell_type": "markdown",
   "metadata": {
    "slideshow": {
     "slide_type": "fragment"
    }
   },
   "source": [
    "6. 实际测量检验并进行调整优化。"
   ]
  },
  {
   "cell_type": "markdown",
   "metadata": {
    "slideshow": {
     "slide_type": "subslide"
    }
   },
   "source": [
    "### 实验数据"
   ]
  },
  {
   "cell_type": "markdown",
   "metadata": {
    "slideshow": {
     "slide_type": "fragment"
    }
   },
   "source": [
    "**表1**\n",
    "\n",
    "| 温度（K）| 273 | 278 | 280 | 298 | 300 | 325 | 330 | 340 | 355 |\n",
    "|:---:|:---:|:---:|:---:|:---:|:---:|:---:|:---:|:---:|:---:|\n",
    "| 电压（V）| 1.272 | 1.325 | 1.346 | 1.390 | 1.401 | 1.537 | 1.565 | 1.619 | 1.702 |"
   ]
  },
  {
   "cell_type": "markdown",
   "metadata": {
    "slideshow": {
     "slide_type": "fragment"
    }
   },
   "source": [
    "![](chart.png)"
   ]
  },
  {
   "cell_type": "markdown",
   "metadata": {
    "slideshow": {
     "slide_type": "fragment"
    }
   },
   "source": [
    "由拟合数据可计算得表达式（转化为摄氏度）：\n",
    "\n",
    "$$ t = (199.5U + 7.9-273) = 199.5U - 265.1 $$"
   ]
  },
  {
   "cell_type": "markdown",
   "metadata": {
    "slideshow": {
     "slide_type": "subslide"
    }
   },
   "source": [
    "### 实验结果"
   ]
  },
  {
   "cell_type": "markdown",
   "metadata": {
    "slideshow": {
     "slide_type": "fragment"
    }
   },
   "source": [
    "小组使用搭建的温度传感器分别测定了冰水混合物、实验室环境、手心以及沸水的温度，上述数据均与实际值十分接近，同时能在电脑上稳定显示，因此实验相对成功。"
   ]
  }
 ],
 "metadata": {
  "kernelspec": {
   "display_name": "notebook",
   "language": "python",
   "name": "python3"
  },
  "language_info": {
   "name": "python",
   "version": "3.11.7"
  }
 },
 "nbformat": 4,
 "nbformat_minor": 2
}
